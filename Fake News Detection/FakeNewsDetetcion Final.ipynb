{
  "nbformat": 4,
  "nbformat_minor": 0,
  "metadata": {
    "colab": {
      "name": "FakeNewsDetetcion.ipynb",
      "provenance": []
    },
    "kernelspec": {
      "name": "python3",
      "display_name": "Python 3"
    },
    "language_info": {
      "name": "python"
    }
  },
  "cells": [
    {
      "cell_type": "markdown",
      "metadata": {
        "id": "zNosEPLZsx0f"
      },
      "source": [
        "**What Is Fake News ?**\n",
        "\n",
        "False news, also known as unwanted news, false stories, misconceptions or fraudulent stories, types of stories that contain deliberate information or frauds that are spread through traditional media (print and broadcast) or online media. Digital news has revived and increased the use of fake news, or yellow journalism. These stories are often referred to as information that is not in the media but sometimes finds its way into the mainstream media as well.\n",
        "\n",
        "\n",
        "*   It causes panic\n",
        "*   Damaging the reputation of public and private organizations\n",
        "*   It deceives the people, for the benefit of the deceivers\n",
        "*   Motivated by a personal vendetta, some people support such things.\n",
        "\n",
        "<br>\n",
        "<br>\n",
        "\n",
        "**PROBLEM :** \n",
        "<br>\n",
        "How to distinguish between a real news and a fake news?\n",
        "\n",
        "<br>\n",
        "<br>\n",
        "\n",
        "**SOLUTION :**\n",
        "\n",
        "We can show an algorithm that has a large number of false and real news stories to learn to distinguish between them automatically, and then give a possible score or percentage of confidence such as a given news release is true or false."
      ]
    },
    {
      "cell_type": "markdown",
      "metadata": {
        "id": "XWC8Yl8NrTVI"
      },
      "source": [
        "# Exploratory Data Analysis"
      ]
    },
    {
      "cell_type": "code",
      "metadata": {
        "colab": {
          "base_uri": "https://localhost:8080/"
        },
        "id": "bKcZxg-zGeHS",
        "outputId": "8f3e1fa8-c9f7-48fb-dcba-d3bf4abcd601"
      },
      "source": [
        "from google.colab import drive\n",
        "drive.mount('/content/drive')"
      ],
      "execution_count": 2,
      "outputs": [
        {
          "output_type": "stream",
          "name": "stdout",
          "text": [
            "Mounted at /content/drive\n"
          ]
        }
      ]
    },
    {
      "cell_type": "code",
      "metadata": {
        "id": "3T8_C3DNQ60_"
      },
      "source": [
        "import pandas as pd\n",
        "import numpy as np"
      ],
      "execution_count": 3,
      "outputs": []
    },
    {
      "cell_type": "markdown",
      "metadata": {
        "id": "iIn0nTNJrjr4"
      },
      "source": [
        "**Loading The Dataset**"
      ]
    },
    {
      "cell_type": "code",
      "metadata": {
        "id": "Tkti84VFRgRE"
      },
      "source": [
        "f = pd.read_csv('/content/drive/MyDrive/Datasets/Fake News Detection/Fake.csv', delimiter = ',')\n",
        "t = pd.read_csv('/content/drive/MyDrive/Datasets/Fake News Detection/True.csv', delimiter = ',')"
      ],
      "execution_count": 4,
      "outputs": []
    },
    {
      "cell_type": "markdown",
      "metadata": {
        "id": "3NfaHxWErrYG"
      },
      "source": [
        "**Observing the top 5 rows of fake and true data**"
      ]
    },
    {
      "cell_type": "code",
      "metadata": {
        "colab": {
          "base_uri": "https://localhost:8080/",
          "height": 206
        },
        "id": "51oll5ylSMTF",
        "outputId": "c8e86cc7-5e91-4a73-830e-918a73a7ae88"
      },
      "source": [
        "f.head()"
      ],
      "execution_count": 5,
      "outputs": [
        {
          "output_type": "execute_result",
          "data": {
            "text/html": [
              "<div>\n",
              "<style scoped>\n",
              "    .dataframe tbody tr th:only-of-type {\n",
              "        vertical-align: middle;\n",
              "    }\n",
              "\n",
              "    .dataframe tbody tr th {\n",
              "        vertical-align: top;\n",
              "    }\n",
              "\n",
              "    .dataframe thead th {\n",
              "        text-align: right;\n",
              "    }\n",
              "</style>\n",
              "<table border=\"1\" class=\"dataframe\">\n",
              "  <thead>\n",
              "    <tr style=\"text-align: right;\">\n",
              "      <th></th>\n",
              "      <th>title</th>\n",
              "      <th>text</th>\n",
              "      <th>subject</th>\n",
              "      <th>date</th>\n",
              "    </tr>\n",
              "  </thead>\n",
              "  <tbody>\n",
              "    <tr>\n",
              "      <th>0</th>\n",
              "      <td>Donald Trump Sends Out Embarrassing New Year’...</td>\n",
              "      <td>Donald Trump just couldn t wish all Americans ...</td>\n",
              "      <td>News</td>\n",
              "      <td>December 31, 2017</td>\n",
              "    </tr>\n",
              "    <tr>\n",
              "      <th>1</th>\n",
              "      <td>Drunk Bragging Trump Staffer Started Russian ...</td>\n",
              "      <td>House Intelligence Committee Chairman Devin Nu...</td>\n",
              "      <td>News</td>\n",
              "      <td>December 31, 2017</td>\n",
              "    </tr>\n",
              "    <tr>\n",
              "      <th>2</th>\n",
              "      <td>Sheriff David Clarke Becomes An Internet Joke...</td>\n",
              "      <td>On Friday, it was revealed that former Milwauk...</td>\n",
              "      <td>News</td>\n",
              "      <td>December 30, 2017</td>\n",
              "    </tr>\n",
              "    <tr>\n",
              "      <th>3</th>\n",
              "      <td>Trump Is So Obsessed He Even Has Obama’s Name...</td>\n",
              "      <td>On Christmas day, Donald Trump announced that ...</td>\n",
              "      <td>News</td>\n",
              "      <td>December 29, 2017</td>\n",
              "    </tr>\n",
              "    <tr>\n",
              "      <th>4</th>\n",
              "      <td>Pope Francis Just Called Out Donald Trump Dur...</td>\n",
              "      <td>Pope Francis used his annual Christmas Day mes...</td>\n",
              "      <td>News</td>\n",
              "      <td>December 25, 2017</td>\n",
              "    </tr>\n",
              "  </tbody>\n",
              "</table>\n",
              "</div>"
            ],
            "text/plain": [
              "                                               title  ...               date\n",
              "0   Donald Trump Sends Out Embarrassing New Year’...  ...  December 31, 2017\n",
              "1   Drunk Bragging Trump Staffer Started Russian ...  ...  December 31, 2017\n",
              "2   Sheriff David Clarke Becomes An Internet Joke...  ...  December 30, 2017\n",
              "3   Trump Is So Obsessed He Even Has Obama’s Name...  ...  December 29, 2017\n",
              "4   Pope Francis Just Called Out Donald Trump Dur...  ...  December 25, 2017\n",
              "\n",
              "[5 rows x 4 columns]"
            ]
          },
          "metadata": {},
          "execution_count": 5
        }
      ]
    },
    {
      "cell_type": "code",
      "metadata": {
        "colab": {
          "base_uri": "https://localhost:8080/",
          "height": 206
        },
        "id": "HZZWrFQ2SOFz",
        "outputId": "8ba64586-2ced-4334-8b70-701723b77a9a"
      },
      "source": [
        "t.head()"
      ],
      "execution_count": 6,
      "outputs": [
        {
          "output_type": "execute_result",
          "data": {
            "text/html": [
              "<div>\n",
              "<style scoped>\n",
              "    .dataframe tbody tr th:only-of-type {\n",
              "        vertical-align: middle;\n",
              "    }\n",
              "\n",
              "    .dataframe tbody tr th {\n",
              "        vertical-align: top;\n",
              "    }\n",
              "\n",
              "    .dataframe thead th {\n",
              "        text-align: right;\n",
              "    }\n",
              "</style>\n",
              "<table border=\"1\" class=\"dataframe\">\n",
              "  <thead>\n",
              "    <tr style=\"text-align: right;\">\n",
              "      <th></th>\n",
              "      <th>title</th>\n",
              "      <th>text</th>\n",
              "      <th>subject</th>\n",
              "      <th>date</th>\n",
              "    </tr>\n",
              "  </thead>\n",
              "  <tbody>\n",
              "    <tr>\n",
              "      <th>0</th>\n",
              "      <td>As U.S. budget fight looms, Republicans flip t...</td>\n",
              "      <td>WASHINGTON (Reuters) - The head of a conservat...</td>\n",
              "      <td>politicsNews</td>\n",
              "      <td>December 31, 2017</td>\n",
              "    </tr>\n",
              "    <tr>\n",
              "      <th>1</th>\n",
              "      <td>U.S. military to accept transgender recruits o...</td>\n",
              "      <td>WASHINGTON (Reuters) - Transgender people will...</td>\n",
              "      <td>politicsNews</td>\n",
              "      <td>December 29, 2017</td>\n",
              "    </tr>\n",
              "    <tr>\n",
              "      <th>2</th>\n",
              "      <td>Senior U.S. Republican senator: 'Let Mr. Muell...</td>\n",
              "      <td>WASHINGTON (Reuters) - The special counsel inv...</td>\n",
              "      <td>politicsNews</td>\n",
              "      <td>December 31, 2017</td>\n",
              "    </tr>\n",
              "    <tr>\n",
              "      <th>3</th>\n",
              "      <td>FBI Russia probe helped by Australian diplomat...</td>\n",
              "      <td>WASHINGTON (Reuters) - Trump campaign adviser ...</td>\n",
              "      <td>politicsNews</td>\n",
              "      <td>December 30, 2017</td>\n",
              "    </tr>\n",
              "    <tr>\n",
              "      <th>4</th>\n",
              "      <td>Trump wants Postal Service to charge 'much mor...</td>\n",
              "      <td>SEATTLE/WASHINGTON (Reuters) - President Donal...</td>\n",
              "      <td>politicsNews</td>\n",
              "      <td>December 29, 2017</td>\n",
              "    </tr>\n",
              "  </tbody>\n",
              "</table>\n",
              "</div>"
            ],
            "text/plain": [
              "                                               title  ...                date\n",
              "0  As U.S. budget fight looms, Republicans flip t...  ...  December 31, 2017 \n",
              "1  U.S. military to accept transgender recruits o...  ...  December 29, 2017 \n",
              "2  Senior U.S. Republican senator: 'Let Mr. Muell...  ...  December 31, 2017 \n",
              "3  FBI Russia probe helped by Australian diplomat...  ...  December 30, 2017 \n",
              "4  Trump wants Postal Service to charge 'much mor...  ...  December 29, 2017 \n",
              "\n",
              "[5 rows x 4 columns]"
            ]
          },
          "metadata": {},
          "execution_count": 6
        }
      ]
    },
    {
      "cell_type": "markdown",
      "metadata": {
        "id": "roS1x0u6r2Df"
      },
      "source": [
        "Now combining these two dataset to one dataset to simplify processing.\n",
        "\n",
        "Also to combine we need to add an extra column as 'temp' to differtiate news as 1=true_news 0=fake_news"
      ]
    },
    {
      "cell_type": "code",
      "metadata": {
        "id": "fDj4cVR6RwVg"
      },
      "source": [
        "f['temp']= 0\n",
        "t['temp']= 1\n",
        "\n",
        "datas = pd.DataFrame()\n",
        "datas = t.append(f)"
      ],
      "execution_count": 7,
      "outputs": []
    },
    {
      "cell_type": "markdown",
      "metadata": {
        "id": "nFIygCDpxkc_"
      },
      "source": [
        "**Observing the top 5 rows of dataset**"
      ]
    },
    {
      "cell_type": "code",
      "metadata": {
        "colab": {
          "base_uri": "https://localhost:8080/",
          "height": 206
        },
        "id": "mcU3j-ITxsL5",
        "outputId": "2e5b4742-d216-43f0-cb59-dc0fe0765f0e"
      },
      "source": [
        "datas.head()"
      ],
      "execution_count": 8,
      "outputs": [
        {
          "output_type": "execute_result",
          "data": {
            "text/html": [
              "<div>\n",
              "<style scoped>\n",
              "    .dataframe tbody tr th:only-of-type {\n",
              "        vertical-align: middle;\n",
              "    }\n",
              "\n",
              "    .dataframe tbody tr th {\n",
              "        vertical-align: top;\n",
              "    }\n",
              "\n",
              "    .dataframe thead th {\n",
              "        text-align: right;\n",
              "    }\n",
              "</style>\n",
              "<table border=\"1\" class=\"dataframe\">\n",
              "  <thead>\n",
              "    <tr style=\"text-align: right;\">\n",
              "      <th></th>\n",
              "      <th>title</th>\n",
              "      <th>text</th>\n",
              "      <th>subject</th>\n",
              "      <th>date</th>\n",
              "      <th>temp</th>\n",
              "    </tr>\n",
              "  </thead>\n",
              "  <tbody>\n",
              "    <tr>\n",
              "      <th>0</th>\n",
              "      <td>As U.S. budget fight looms, Republicans flip t...</td>\n",
              "      <td>WASHINGTON (Reuters) - The head of a conservat...</td>\n",
              "      <td>politicsNews</td>\n",
              "      <td>December 31, 2017</td>\n",
              "      <td>1</td>\n",
              "    </tr>\n",
              "    <tr>\n",
              "      <th>1</th>\n",
              "      <td>U.S. military to accept transgender recruits o...</td>\n",
              "      <td>WASHINGTON (Reuters) - Transgender people will...</td>\n",
              "      <td>politicsNews</td>\n",
              "      <td>December 29, 2017</td>\n",
              "      <td>1</td>\n",
              "    </tr>\n",
              "    <tr>\n",
              "      <th>2</th>\n",
              "      <td>Senior U.S. Republican senator: 'Let Mr. Muell...</td>\n",
              "      <td>WASHINGTON (Reuters) - The special counsel inv...</td>\n",
              "      <td>politicsNews</td>\n",
              "      <td>December 31, 2017</td>\n",
              "      <td>1</td>\n",
              "    </tr>\n",
              "    <tr>\n",
              "      <th>3</th>\n",
              "      <td>FBI Russia probe helped by Australian diplomat...</td>\n",
              "      <td>WASHINGTON (Reuters) - Trump campaign adviser ...</td>\n",
              "      <td>politicsNews</td>\n",
              "      <td>December 30, 2017</td>\n",
              "      <td>1</td>\n",
              "    </tr>\n",
              "    <tr>\n",
              "      <th>4</th>\n",
              "      <td>Trump wants Postal Service to charge 'much mor...</td>\n",
              "      <td>SEATTLE/WASHINGTON (Reuters) - President Donal...</td>\n",
              "      <td>politicsNews</td>\n",
              "      <td>December 29, 2017</td>\n",
              "      <td>1</td>\n",
              "    </tr>\n",
              "  </tbody>\n",
              "</table>\n",
              "</div>"
            ],
            "text/plain": [
              "                                               title  ... temp\n",
              "0  As U.S. budget fight looms, Republicans flip t...  ...    1\n",
              "1  U.S. military to accept transgender recruits o...  ...    1\n",
              "2  Senior U.S. Republican senator: 'Let Mr. Muell...  ...    1\n",
              "3  FBI Russia probe helped by Australian diplomat...  ...    1\n",
              "4  Trump wants Postal Service to charge 'much mor...  ...    1\n",
              "\n",
              "[5 rows x 5 columns]"
            ]
          },
          "metadata": {},
          "execution_count": 8
        }
      ]
    },
    {
      "cell_type": "markdown",
      "metadata": {
        "id": "iQy7wL8SwgBu"
      },
      "source": [
        "**Checking the dimensions**"
      ]
    },
    {
      "cell_type": "code",
      "metadata": {
        "colab": {
          "base_uri": "https://localhost:8080/"
        },
        "id": "GTcT2G9ywldw",
        "outputId": "cf17fadc-1a43-416d-d59f-b1231215f87a"
      },
      "source": [
        "print(datas.shape)"
      ],
      "execution_count": 9,
      "outputs": [
        {
          "output_type": "stream",
          "name": "stdout",
          "text": [
            "(44898, 5)\n"
          ]
        }
      ]
    },
    {
      "cell_type": "markdown",
      "metadata": {
        "id": "IGdvzlK5sC5g"
      },
      "source": [
        "**Column 'Date' and 'Subject' are important to Descriptive analysis but here for prediction they are less important so dropping these columns.**"
      ]
    },
    {
      "cell_type": "code",
      "metadata": {
        "id": "eldrd8KyR4kw"
      },
      "source": [
        "column = ['date','subject']\n",
        "datas = datas.drop(columns=column)"
      ],
      "execution_count": 10,
      "outputs": []
    },
    {
      "cell_type": "markdown",
      "metadata": {
        "id": "JDx7GKAfwp2n"
      },
      "source": [
        "**Cheking the dimensions after dropping**"
      ]
    },
    {
      "cell_type": "code",
      "metadata": {
        "colab": {
          "base_uri": "https://localhost:8080/"
        },
        "id": "u4e-c_ZIwr73",
        "outputId": "c238f182-fb41-49d3-e26f-c72c4110ffdb"
      },
      "source": [
        "print(datas.shape)"
      ],
      "execution_count": 11,
      "outputs": [
        {
          "output_type": "stream",
          "name": "stdout",
          "text": [
            "(44898, 3)\n"
          ]
        }
      ]
    },
    {
      "cell_type": "markdown",
      "metadata": {
        "id": "bzvDyXoywx2_"
      },
      "source": [
        "**Exploring the data**"
      ]
    },
    {
      "cell_type": "code",
      "metadata": {
        "colab": {
          "base_uri": "https://localhost:8080/"
        },
        "id": "P65xxII6ww05",
        "outputId": "067aec9f-b573-4deb-90c2-4234d2d2479d"
      },
      "source": [
        "datas.info()"
      ],
      "execution_count": 12,
      "outputs": [
        {
          "output_type": "stream",
          "name": "stdout",
          "text": [
            "<class 'pandas.core.frame.DataFrame'>\n",
            "Int64Index: 44898 entries, 0 to 23480\n",
            "Data columns (total 3 columns):\n",
            " #   Column  Non-Null Count  Dtype \n",
            "---  ------  --------------  ----- \n",
            " 0   title   44898 non-null  object\n",
            " 1   text    44898 non-null  object\n",
            " 2   temp    44898 non-null  int64 \n",
            "dtypes: int64(1), object(2)\n",
            "memory usage: 1.4+ MB\n"
          ]
        }
      ]
    },
    {
      "cell_type": "markdown",
      "metadata": {
        "id": "MII5G82zsLCO"
      },
      "source": [
        "**Created array of 'title' column as input_array for preprocessing**"
      ]
    },
    {
      "cell_type": "code",
      "metadata": {
        "id": "7jWE09tYsJe4"
      },
      "source": [
        "input_arr=np.array(datas['title'])"
      ],
      "execution_count": 13,
      "outputs": []
    },
    {
      "cell_type": "markdown",
      "metadata": {
        "id": "4-oQumWTsRuP"
      },
      "source": [
        "# Natural Language Processing"
      ]
    },
    {
      "cell_type": "markdown",
      "metadata": {
        "id": "kIZ_Lv4H1S9n"
      },
      "source": [
        "*Downloading Stopwords*"
      ]
    },
    {
      "cell_type": "code",
      "metadata": {
        "colab": {
          "base_uri": "https://localhost:8080/"
        },
        "id": "HdoXk8PmSB7i",
        "outputId": "f1c5a7ff-98bd-4edd-dbb5-f41af4ee2f33"
      },
      "source": [
        "import re\n",
        "import nltk\n",
        "nltk.download('stopwords')"
      ],
      "execution_count": 14,
      "outputs": [
        {
          "output_type": "stream",
          "name": "stdout",
          "text": [
            "[nltk_data] Downloading package stopwords to /root/nltk_data...\n",
            "[nltk_data]   Unzipping corpora/stopwords.zip.\n"
          ]
        },
        {
          "output_type": "execute_result",
          "data": {
            "text/plain": [
              "True"
            ]
          },
          "metadata": {},
          "execution_count": 14
        }
      ]
    },
    {
      "cell_type": "markdown",
      "metadata": {
        "id": "H5zXvujG1OgF"
      },
      "source": [
        "***Stopwords***: *A stop word is a commonly used word (such as “the”, “a”, “an”, “in”) that a search engine has been programmed to ignore, both when indexing entries for searching and when retrieving them as the result of a search query.*\n",
        "https://www.geeksforgeeks.org/removing-stop-words-nltk-python/\n",
        "\n",
        "***PortStemmer***: *A PortStemmer is an algorithm used for removing the commoner morphological and inflexional endings from words in English.  For example: words such as “Likes”, ”liked”, ”likely” and ”liking” will be reduced to “like” after stemming.*\n",
        "https://www.geeksforgeeks.org/python-stemming-words-with-nltk/"
      ]
    },
    {
      "cell_type": "markdown",
      "metadata": {
        "id": "w4BuoPqdFzQV"
      },
      "source": [
        "**Using nltk and importing Stopwords(For dealing with stopwords) and PortStemmer(For stemming)**"
      ]
    },
    {
      "cell_type": "code",
      "metadata": {
        "id": "qbQE4S45Sktw"
      },
      "source": [
        "from nltk.corpus import stopwords\n",
        "from nltk.stem.porter import PorterStemmer\n",
        "\n",
        "corpus = []\n",
        "\n",
        "for i in range(0, 40000):\n",
        "    newArr = re.sub('[^a-zA-Z]', ' ', input_arr[i])\n",
        "    #The sub() function replaces the matches with the text of your choice,\n",
        "    #in this case \"[a-zA-Z]\" is getting replaced with blank space\n",
        "    #input_arr[i] is the array of 'title' column.\n",
        "\n",
        "    #[a-zA-Z]: Returns a match for any character alphabetically between a and z, lower case OR upper case\n",
        "\n",
        "    newArr = newArr.lower()\n",
        "    #Converting into lowercase\n",
        "\n",
        "    newArr = newArr.split()\n",
        "    #The split() method splits a string into a list.\n",
        "\n",
        "    ps = PorterStemmer()\n",
        "    newArr = [ps.stem(word) for word in newArr if not word in set(stopwords.words('english'))]\n",
        "    #ps.stem(word) is stemming the words\n",
        "    #the word will be considered if the word is not a stopword\n",
        "    #set(stopwords.words('english')= checks any kind of stopwords in English language\n",
        "\n",
        "    newArr = ' '.join(newArr)\n",
        "    #joins the string with blank spaces\n",
        "\n",
        "    corpus.append(newArr)\n",
        "    #adding strings into the corpus list"
      ],
      "execution_count": 15,
      "outputs": []
    },
    {
      "cell_type": "code",
      "metadata": {
        "colab": {
          "base_uri": "https://localhost:8080/",
          "height": 424
        },
        "id": "1RTB_Wxsxro-",
        "outputId": "191642a8-b98b-4d99-fefb-377d0d2c3a19"
      },
      "source": [
        "datas"
      ],
      "execution_count": 16,
      "outputs": [
        {
          "output_type": "execute_result",
          "data": {
            "text/html": [
              "<div>\n",
              "<style scoped>\n",
              "    .dataframe tbody tr th:only-of-type {\n",
              "        vertical-align: middle;\n",
              "    }\n",
              "\n",
              "    .dataframe tbody tr th {\n",
              "        vertical-align: top;\n",
              "    }\n",
              "\n",
              "    .dataframe thead th {\n",
              "        text-align: right;\n",
              "    }\n",
              "</style>\n",
              "<table border=\"1\" class=\"dataframe\">\n",
              "  <thead>\n",
              "    <tr style=\"text-align: right;\">\n",
              "      <th></th>\n",
              "      <th>title</th>\n",
              "      <th>text</th>\n",
              "      <th>temp</th>\n",
              "    </tr>\n",
              "  </thead>\n",
              "  <tbody>\n",
              "    <tr>\n",
              "      <th>0</th>\n",
              "      <td>As U.S. budget fight looms, Republicans flip t...</td>\n",
              "      <td>WASHINGTON (Reuters) - The head of a conservat...</td>\n",
              "      <td>1</td>\n",
              "    </tr>\n",
              "    <tr>\n",
              "      <th>1</th>\n",
              "      <td>U.S. military to accept transgender recruits o...</td>\n",
              "      <td>WASHINGTON (Reuters) - Transgender people will...</td>\n",
              "      <td>1</td>\n",
              "    </tr>\n",
              "    <tr>\n",
              "      <th>2</th>\n",
              "      <td>Senior U.S. Republican senator: 'Let Mr. Muell...</td>\n",
              "      <td>WASHINGTON (Reuters) - The special counsel inv...</td>\n",
              "      <td>1</td>\n",
              "    </tr>\n",
              "    <tr>\n",
              "      <th>3</th>\n",
              "      <td>FBI Russia probe helped by Australian diplomat...</td>\n",
              "      <td>WASHINGTON (Reuters) - Trump campaign adviser ...</td>\n",
              "      <td>1</td>\n",
              "    </tr>\n",
              "    <tr>\n",
              "      <th>4</th>\n",
              "      <td>Trump wants Postal Service to charge 'much mor...</td>\n",
              "      <td>SEATTLE/WASHINGTON (Reuters) - President Donal...</td>\n",
              "      <td>1</td>\n",
              "    </tr>\n",
              "    <tr>\n",
              "      <th>...</th>\n",
              "      <td>...</td>\n",
              "      <td>...</td>\n",
              "      <td>...</td>\n",
              "    </tr>\n",
              "    <tr>\n",
              "      <th>23476</th>\n",
              "      <td>McPain: John McCain Furious That Iran Treated ...</td>\n",
              "      <td>21st Century Wire says As 21WIRE reported earl...</td>\n",
              "      <td>0</td>\n",
              "    </tr>\n",
              "    <tr>\n",
              "      <th>23477</th>\n",
              "      <td>JUSTICE? Yahoo Settles E-mail Privacy Class-ac...</td>\n",
              "      <td>21st Century Wire says It s a familiar theme. ...</td>\n",
              "      <td>0</td>\n",
              "    </tr>\n",
              "    <tr>\n",
              "      <th>23478</th>\n",
              "      <td>Sunnistan: US and Allied ‘Safe Zone’ Plan to T...</td>\n",
              "      <td>Patrick Henningsen  21st Century WireRemember ...</td>\n",
              "      <td>0</td>\n",
              "    </tr>\n",
              "    <tr>\n",
              "      <th>23479</th>\n",
              "      <td>How to Blow $700 Million: Al Jazeera America F...</td>\n",
              "      <td>21st Century Wire says Al Jazeera America will...</td>\n",
              "      <td>0</td>\n",
              "    </tr>\n",
              "    <tr>\n",
              "      <th>23480</th>\n",
              "      <td>10 U.S. Navy Sailors Held by Iranian Military ...</td>\n",
              "      <td>21st Century Wire says As 21WIRE predicted in ...</td>\n",
              "      <td>0</td>\n",
              "    </tr>\n",
              "  </tbody>\n",
              "</table>\n",
              "<p>44898 rows × 3 columns</p>\n",
              "</div>"
            ],
            "text/plain": [
              "                                                   title  ... temp\n",
              "0      As U.S. budget fight looms, Republicans flip t...  ...    1\n",
              "1      U.S. military to accept transgender recruits o...  ...    1\n",
              "2      Senior U.S. Republican senator: 'Let Mr. Muell...  ...    1\n",
              "3      FBI Russia probe helped by Australian diplomat...  ...    1\n",
              "4      Trump wants Postal Service to charge 'much mor...  ...    1\n",
              "...                                                  ...  ...  ...\n",
              "23476  McPain: John McCain Furious That Iran Treated ...  ...    0\n",
              "23477  JUSTICE? Yahoo Settles E-mail Privacy Class-ac...  ...    0\n",
              "23478  Sunnistan: US and Allied ‘Safe Zone’ Plan to T...  ...    0\n",
              "23479  How to Blow $700 Million: Al Jazeera America F...  ...    0\n",
              "23480  10 U.S. Navy Sailors Held by Iranian Military ...  ...    0\n",
              "\n",
              "[44898 rows x 3 columns]"
            ]
          },
          "metadata": {},
          "execution_count": 16
        }
      ]
    },
    {
      "cell_type": "markdown",
      "metadata": {
        "id": "W7QvVnbr1rCW"
      },
      "source": [
        "***CountVectorizer*** : *CountVectorizer is a tool provided by the scikit-learn library. It is used to transform a given text into a vector on the basis of the frequency (count) of each word that occurs in the entire text.* \n",
        "https://www.geeksforgeeks.org/using-countvectorizer-to-extracting-features-from-text/"
      ]
    },
    {
      "cell_type": "code",
      "metadata": {
        "id": "zeW2JtkLSqgg"
      },
      "source": [
        "from sklearn.feature_extraction.text import CountVectorizer\n",
        "countv = CountVectorizer(max_features = 5000)\n",
        "#max_features: The CountVectorizer will select the\n",
        "#words/features/terms which occur the most frequently.\n",
        "#It takes absolute values so if you set the ‘max_features = 3’,\n",
        "#it will select the 3 most common words in the data.\n",
        "\n",
        "X = countv.fit_transform(corpus).toarray()\n",
        "y = datas.iloc[0:40000, 2].values"
      ],
      "execution_count": 17,
      "outputs": []
    },
    {
      "cell_type": "markdown",
      "metadata": {
        "id": "R3ciK92LySSb"
      },
      "source": [
        "X=independent_variable(title)\n",
        "</br> y=dependent_variable(sentiment 0 or 1)\n",
        "\n",
        "</br>\n",
        "Basically what I did here is created a bag of words (https://machinelearningmastery.com/gentle-introduction-bag-words-model/)i.e, X will have top 5000 most common words in array form"
      ]
    },
    {
      "cell_type": "markdown",
      "metadata": {
        "id": "pWCRpCJytbOX"
      },
      "source": [
        "# Modelling"
      ]
    },
    {
      "cell_type": "markdown",
      "metadata": {
        "id": "L51J2xHhsfuH"
      },
      "source": [
        "**Splitting the dataset into the Training set and Test set in 80-20 ratio**"
      ]
    },
    {
      "cell_type": "code",
      "metadata": {
        "id": "tlGuYEnaU_fu"
      },
      "source": [
        "from sklearn.model_selection import train_test_split\n",
        "X_train, X_test, y_train, y_test = train_test_split(X, y, test_size = 0.20, random_state = 0)"
      ],
      "execution_count": 18,
      "outputs": []
    },
    {
      "cell_type": "markdown",
      "metadata": {
        "id": "uLGkDV3Ntope"
      },
      "source": [
        "**Fitting Logistic Regression to the Training set**"
      ]
    },
    {
      "cell_type": "code",
      "metadata": {
        "colab": {
          "base_uri": "https://localhost:8080/"
        },
        "id": "yiwMSdFFtu4-",
        "outputId": "195af7a4-0304-4526-e47b-863cfa2195c2"
      },
      "source": [
        "from sklearn.linear_model import LogisticRegression\n",
        "classifier = LogisticRegression(random_state = 0)\n",
        "classifier.fit(X_train, y_train)"
      ],
      "execution_count": 19,
      "outputs": [
        {
          "output_type": "execute_result",
          "data": {
            "text/plain": [
              "LogisticRegression(random_state=0)"
            ]
          },
          "metadata": {},
          "execution_count": 19
        }
      ]
    },
    {
      "cell_type": "markdown",
      "metadata": {
        "id": "FACWoKH7tx1X"
      },
      "source": [
        "**Predicting the Test set results**"
      ]
    },
    {
      "cell_type": "code",
      "metadata": {
        "id": "vgzLHzcEtzmq"
      },
      "source": [
        "y_pred = classifier.predict(X_test)"
      ],
      "execution_count": 20,
      "outputs": []
    },
    {
      "cell_type": "markdown",
      "metadata": {
        "id": "f-1ZNDIkt5vY"
      },
      "source": [
        "# Model Evaluation"
      ]
    },
    {
      "cell_type": "markdown",
      "metadata": {
        "id": "I6fOn_TeuPbO"
      },
      "source": [
        "**Making the Confusion Matrix**"
      ]
    },
    {
      "cell_type": "code",
      "metadata": {
        "id": "PVgM-6qrt1dB"
      },
      "source": [
        "from sklearn.metrics import confusion_matrix\n",
        "cm = confusion_matrix(y_test, y_pred)"
      ],
      "execution_count": 21,
      "outputs": []
    },
    {
      "cell_type": "code",
      "metadata": {
        "colab": {
          "base_uri": "https://localhost:8080/"
        },
        "id": "ntqdcCNRuZ94",
        "outputId": "373f3486-cc30-4f02-9d9e-03477d562090"
      },
      "source": [
        "print(cm)"
      ],
      "execution_count": 22,
      "outputs": [
        {
          "output_type": "stream",
          "name": "stdout",
          "text": [
            "[[3488  264]\n",
            " [ 140 4108]]\n"
          ]
        }
      ]
    },
    {
      "cell_type": "markdown",
      "metadata": {
        "id": "wWRIZAk3v5uN"
      },
      "source": [
        "**Getting more details**"
      ]
    },
    {
      "cell_type": "code",
      "metadata": {
        "colab": {
          "base_uri": "https://localhost:8080/"
        },
        "id": "nL__ptq2ucmM",
        "outputId": "3e5fad6f-9de7-4227-f8bb-2d15db7cadad"
      },
      "source": [
        "from sklearn.metrics import classification_report\n",
        "print(classification_report(y_test, y_pred))"
      ],
      "execution_count": 23,
      "outputs": [
        {
          "output_type": "stream",
          "name": "stdout",
          "text": [
            "              precision    recall  f1-score   support\n",
            "\n",
            "           0       0.96      0.93      0.95      3752\n",
            "           1       0.94      0.97      0.95      4248\n",
            "\n",
            "    accuracy                           0.95      8000\n",
            "   macro avg       0.95      0.95      0.95      8000\n",
            "weighted avg       0.95      0.95      0.95      8000\n",
            "\n"
          ]
        }
      ]
    },
    {
      "cell_type": "markdown",
      "metadata": {
        "id": "Bs2rmUBiy6Sp"
      },
      "source": [
        "TP – True Positives\n",
        "TN - True Negatives\n",
        "FP – False Positives\n",
        "FN – False Negatives\n",
        "\n",
        "Precision: Accuracy of positive predictions.\n",
        "Precision = TP/(TP + FP)\n",
        "\n",
        "Recall: Fraction of positives that were correctly identified.\n",
        "Recall = TP/(TP+FN)\n",
        "\n",
        "F1 score – Percent of positive predictions were correct.\n",
        "F1 Score = 2*(Recall * Precision) / (Recall + Precision)"
      ]
    },
    {
      "cell_type": "markdown",
      "metadata": {
        "id": "1Q-iYjLiIzZ-"
      },
      "source": [
        "**Getting Accuracy**"
      ]
    },
    {
      "cell_type": "code",
      "metadata": {
        "colab": {
          "base_uri": "https://localhost:8080/"
        },
        "id": "fpqeGK4TIdD-",
        "outputId": "64236d97-05fa-4642-af6e-db3f4e033185"
      },
      "source": [
        "from sklearn.metrics import accuracy_score\n",
        "print(\"Accuarcy: {}\".format(round(accuracy_score(y_test, y_pred)*100,2)))"
      ],
      "execution_count": 24,
      "outputs": [
        {
          "output_type": "stream",
          "name": "stdout",
          "text": [
            "Accuarcy: 94.95\n"
          ]
        }
      ]
    },
    {
      "cell_type": "markdown",
      "metadata": {
        "id": "xZCED1Onv7-e"
      },
      "source": [
        "**Confusion matrix in a well plotted chart**"
      ]
    },
    {
      "cell_type": "code",
      "metadata": {
        "id": "4fEFCDDwvJQD"
      },
      "source": [
        "import seaborn as sns\n",
        "import matplotlib.pyplot as plt"
      ],
      "execution_count": 25,
      "outputs": []
    },
    {
      "cell_type": "code",
      "metadata": {
        "colab": {
          "base_uri": "https://localhost:8080/",
          "height": 295
        },
        "id": "_sU_egMPveut",
        "outputId": "8a72c8a2-c512-475d-8017-8681241e0d2d"
      },
      "source": [
        "new_cm = pd.DataFrame(cm , index = ['Fake','Not Fake'] , columns = ['Fake','Not Fake'])\n",
        "sns.heatmap(new_cm,cmap= 'Blues', annot = True, fmt='',xticklabels = ['Fake','Not Fake'], yticklabels = ['Fake','Not Fake'])\n",
        "plt.xlabel(\"Actual\")\n",
        "plt.ylabel(\"Predicted\")\n",
        "plt.title('Confusion matrix On Test Data')\n",
        "plt.show()"
      ],
      "execution_count": 26,
      "outputs": [
        {
          "output_type": "display_data",
          "data": {
            "image/png": "[encoded data removed]",
            "text/plain": [
              "<Figure size 432x288 with 2 Axes>"
            ]
          },
          "metadata": {
            "needs_background": "light"
          }
        }
      ]
    },
    {
      "cell_type": "markdown",
      "metadata": {
        "id": "6AJR7B-Y9R9U"
      },
      "source": [
        "# Saving The Model"
      ]
    },
    {
      "cell_type": "markdown",
      "metadata": {
        "id": "AWGAhc-09s0Y"
      },
      "source": [
        "We will use the pickle operation to serialize the model and save the serialized format to a file."
      ]
    },
    {
      "cell_type": "code",
      "metadata": {
        "id": "m83vNP4U9UTx"
      },
      "source": [
        "import pickle\n",
        "pickle.dump(classifier, open('Fake_News_Model', 'wb'))"
      ],
      "execution_count": 27,
      "outputs": []
    }
  ]
}